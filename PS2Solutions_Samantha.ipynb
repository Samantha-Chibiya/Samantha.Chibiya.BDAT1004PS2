{
 "cells": [
  {
   "cell_type": "markdown",
   "id": "cfe37e5b",
   "metadata": {},
   "source": [
    "# PROBLEM SET 2"
   ]
  },
  {
   "cell_type": "markdown",
   "id": "ae678870",
   "metadata": {},
   "source": [
    "### Question 1"
   ]
  },
  {
   "cell_type": "markdown",
   "id": "7321fc92",
   "metadata": {},
   "source": [
    "Consider the following Python module:\n",
    "a = 0 def b():\n",
    "global a\n",
    "a = c(a)\n",
    "def c(a):\n",
    "return a + 2\n",
    "After importing the module into the interpreter, you execute:>>> b() >>> b() >>> b() >>> a?\n",
    "What value is displayed when the last expression (a) is evaluated? Explain your answer by indicating what happens in every executed statement."
   ]
  },
  {
   "cell_type": "code",
   "execution_count": 2,
   "id": "e4f4637f",
   "metadata": {},
   "outputs": [
    {
     "data": {
      "text/plain": [
       "6"
      ]
     },
     "execution_count": 2,
     "metadata": {},
     "output_type": "execute_result"
    }
   ],
   "source": [
    "a = 0\n",
    "\n",
    "def b():\n",
    "    global a\n",
    "    a = c(a)\n",
    "\n",
    "def c(a):\n",
    "    return a + 2\n",
    "\n",
    "b()\n",
    "b()\n",
    "b()\n",
    "a"
   ]
  },
  {
   "cell_type": "markdown",
   "id": "fbb0a5fb",
   "metadata": {},
   "source": [
    "In the initial step, a is assigned value of 0. Then variable b is introduced and a is assigned as a global variable. b variable uses c variable which adds 2 to the value of a. Then the b function is called 3 times and finally the value of a is printed. So in the first output of b() the output would have been 2. Since the command is iterated 3 times hence the final output will be 6."
   ]
  },
  {
   "cell_type": "markdown",
   "id": "ed25807e",
   "metadata": {},
   "source": [
    "### Question 2 "
   ]
  },
  {
   "cell_type": "markdown",
   "id": "17648675",
   "metadata": {},
   "source": [
    "Function fileLength(), given to you, takes the name of a file as input and returns the length of the file:>>> fileLength('midterm.py') 284 >>> fileLength('idterm.py') Traceback (most recent call last):\n",
    "File \"<pyshell#34>\", line 1, in < module > fileLength('idterm.py')\n",
    "File \"/Users/me/midterm.py\", line 3, in fileLength infile = open(filename)\n",
    "FileNotFoundError: [Errno 2] No such file or directory: 'idterm.py'\n",
    "As shown above, if the file cannot be found by the interpreter or if it cannot be read as a text file, an exception will be raised. Modify function fileLength() so that a friendly message is printed instead: >>> fileLength('midterm.py') 358 >>> fileLength('idterm.py') File idterm.py not found."
   ]
  },
  {
   "cell_type": "code",
   "execution_count": 3,
   "id": "ec29f1ac",
   "metadata": {},
   "outputs": [],
   "source": [
    "def fileLength(a):                                         \n",
    "    try:                                                    \n",
    "        f1 = open(a, \"r\")                                     \n",
    "        f2 = f1.read()                                               \n",
    "        print('The filelength is '+ str(len(f2)))         \n",
    "        f1.close()                                                   \n",
    "    except:                                                           \n",
    "        print('File '+a+' not found')  "
   ]
  },
  {
   "cell_type": "code",
   "execution_count": 4,
   "id": "f285a440",
   "metadata": {},
   "outputs": [
    {
     "name": "stdout",
     "output_type": "stream",
     "text": [
      "The filelength is 461\n"
     ]
    }
   ],
   "source": [
    "fileLength('Midterm.py')"
   ]
  },
  {
   "cell_type": "code",
   "execution_count": 5,
   "id": "164b3c0a",
   "metadata": {},
   "outputs": [
    {
     "name": "stdout",
     "output_type": "stream",
     "text": [
      "File idterm.py not found\n"
     ]
    }
   ],
   "source": [
    "fileLength('idterm.py')"
   ]
  },
  {
   "cell_type": "markdown",
   "id": "746f86fc",
   "metadata": {},
   "source": [
    "### Question 3 "
   ]
  },
  {
   "cell_type": "markdown",
   "id": "b9f4f69e",
   "metadata": {},
   "source": [
    "Write a class named Marsupial that can be used as shown below:>>> m = Marsupial() >>> m.put_in_pouch('doll') >>> m.put_in_pouch('firetruck') >>> m.put_in_pouch('kitten') >>> m.pouch_contents() ['doll', 'firetruck', 'kitten']\n",
    "Now write a class named Kangaroo as a subclass of Marsupial that inherits all the attributes of Marsupial and also:"
   ]
  },
  {
   "cell_type": "code",
   "execution_count": 6,
   "id": "a533a3e9",
   "metadata": {},
   "outputs": [],
   "source": [
    "class Marsupial(object):                     \n",
    "  \n",
    "    def __init__(self):                               \n",
    "        self.contents = []                     \n",
    "    def put_in_pouch(self, item):             \n",
    "        self.contents.append(item)\n",
    "    def pouch_contents(self):                \n",
    "        return self.contents "
   ]
  },
  {
   "cell_type": "code",
   "execution_count": 7,
   "id": "2da5cacd",
   "metadata": {},
   "outputs": [
    {
     "data": {
      "text/plain": [
       "['doll', 'firetruck', 'kitten']"
      ]
     },
     "execution_count": 7,
     "metadata": {},
     "output_type": "execute_result"
    }
   ],
   "source": [
    "a = Marsupial()\n",
    "a.put_in_pouch('doll')\n",
    "a.put_in_pouch('firetruck')\n",
    "a.put_in_pouch('kitten')\n",
    "a.pouch_contents()"
   ]
  },
  {
   "cell_type": "code",
   "execution_count": 8,
   "id": "6ec9a0ea",
   "metadata": {},
   "outputs": [],
   "source": [
    "class Kangaroo(Marsupial):                      \n",
    "    \n",
    "    def __init__(self,x,y):                                     \n",
    "        Marsupial.__init__(self)                 \n",
    "        self.x = x                                \n",
    "        self.y = y\n",
    "                                  \n",
    "    def jump(self,dx,dy):                         \n",
    "        self.x = self.x + dx\n",
    "        self.y = self.y + dy\n",
    "        \n",
    "    def __str__(self):                           \n",
    "        return 'I am a Kangaroo located at coordinates ({},{})'.format(self.x,self.y)"
   ]
  },
  {
   "cell_type": "markdown",
   "id": "951c7fa9",
   "metadata": {},
   "source": [
    "Part a) extends the Marsupial __init__ constructor to take, as input, the\n",
    "coordinates x and y of the Kangaroo object,"
   ]
  },
  {
   "cell_type": "code",
   "execution_count": 9,
   "id": "968ffc37",
   "metadata": {},
   "outputs": [
    {
     "name": "stdout",
     "output_type": "stream",
     "text": [
      "I am a Kangaroo located at coordinates (2,3)\n"
     ]
    }
   ],
   "source": [
    "b = Kangaroo(2,3)\n",
    "print(b)"
   ]
  },
  {
   "cell_type": "markdown",
   "id": "7376ec7c",
   "metadata": {},
   "source": [
    "Part b) supports method jump that takes number values dx and dy as input and moves the kangaroo by dx units along the x-axis and by dy units along the y- axis, and"
   ]
  },
  {
   "cell_type": "code",
   "execution_count": 10,
   "id": "24de73f1",
   "metadata": {},
   "outputs": [
    {
     "data": {
      "text/plain": [
       "['doll', 'firetruck', 'kitten']"
      ]
     },
     "execution_count": 10,
     "metadata": {},
     "output_type": "execute_result"
    }
   ],
   "source": [
    "b.put_in_pouch('doll')\n",
    "b.put_in_pouch('firetruck')\n",
    "b.put_in_pouch('kitten')\n",
    "b.pouch_contents()"
   ]
  },
  {
   "cell_type": "markdown",
   "id": "a4d49227",
   "metadata": {},
   "source": [
    "Part c) overloads the __str__ operator so it behaves as shown below.>>> k = Kangaroo(0,0) >>> print(k)\n",
    "I am a Kangaroo located at coordinates (0,0) >>> k.put_in_pouch('doll') >>> k.put_in_pouch('firetruck') >>> k.put_in_pouch('kitten') >>> k.pouch_contents() ['doll', 'firetruck', 'kitten'] >>> k.jump(1,0) >>> k.jump(1,0) >>> k.jump(1,0) >>> print(k)\n",
    "I am a Kangaroo located at coordinates (3,0)"
   ]
  },
  {
   "cell_type": "code",
   "execution_count": 11,
   "id": "c975a9f9",
   "metadata": {},
   "outputs": [
    {
     "name": "stdout",
     "output_type": "stream",
     "text": [
      "I am a Kangaroo located at coordinates (5,9)\n"
     ]
    }
   ],
   "source": [
    "b.jump(1,2)\n",
    "b.jump(1,2)\n",
    "b.jump(1,2)\n",
    "print(b)"
   ]
  },
  {
   "cell_type": "markdown",
   "id": "a988d62b",
   "metadata": {},
   "source": [
    "### Question 4 "
   ]
  },
  {
   "cell_type": "markdown",
   "id": "858e1fc5",
   "metadata": {},
   "source": [
    "Write function collatz() that takes a positive integer x as input and prints the Collatz sequence starting at x. A Collatz sequence is obtained by repeatedly applying this rule to the previous number x in the sequence:\n",
    "x = { 𝑥/2 𝑖𝑓 𝑥 𝑖𝑠 𝑒𝑣𝑒𝑛 3𝑥 + 1 𝑖𝑓 𝑥 𝑖𝑠 𝑜𝑑𝑑\n",
    "Your function should stop when the sequence gets to number 1. Your implementation must be recursive, without any loops. >>> collatz(1) 1 >>> collatz(10) 10\n",
    "5\n",
    "16\n",
    "8\n",
    "4\n",
    "2\n",
    "1"
   ]
  },
  {
   "cell_type": "code",
   "execution_count": 12,
   "id": "2c42e4a3",
   "metadata": {},
   "outputs": [],
   "source": [
    "def collatz(a):                  \n",
    "   \n",
    "    if a != 1:                   \n",
    "        if a%2!=0:                \n",
    "            print(int(a))         \n",
    "            collatz(3*a+1)       \n",
    "        \n",
    "        else:\n",
    "            print(int(a))         \n",
    "            collatz(a/2)          \n",
    "  \n",
    "    else:\n",
    "        print(int(a));"
   ]
  },
  {
   "cell_type": "code",
   "execution_count": 13,
   "id": "7c6746ee",
   "metadata": {},
   "outputs": [
    {
     "name": "stdout",
     "output_type": "stream",
     "text": [
      "1\n"
     ]
    }
   ],
   "source": [
    "collatz(1)"
   ]
  },
  {
   "cell_type": "code",
   "execution_count": 14,
   "id": "870115ff",
   "metadata": {},
   "outputs": [
    {
     "name": "stdout",
     "output_type": "stream",
     "text": [
      "10\n",
      "5\n",
      "16\n",
      "8\n",
      "4\n",
      "2\n",
      "1\n"
     ]
    }
   ],
   "source": [
    "collatz(10)"
   ]
  },
  {
   "cell_type": "markdown",
   "id": "4de25737",
   "metadata": {},
   "source": [
    "### Question 5 "
   ]
  },
  {
   "cell_type": "markdown",
   "id": "c7ac2d49",
   "metadata": {},
   "source": [
    "Write a recursive method binary() that takes a non-negative integer n and prints the binary representation of integer n. >>> binary(0) 0 >>> binary(1) 1 >>> binary(3) 11 >>> binary(9) 1001"
   ]
  },
  {
   "cell_type": "code",
   "execution_count": 15,
   "id": "7cd24a83",
   "metadata": {},
   "outputs": [],
   "source": [
    "def binary(a):\n",
    "    \n",
    "    if a>0:                          \n",
    "        return (a % 2 + 10*binary(int(a // 2)))\n",
    "       \n",
    "    else:\n",
    "         return 0"
   ]
  },
  {
   "cell_type": "code",
   "execution_count": 16,
   "id": "6f427e32",
   "metadata": {},
   "outputs": [
    {
     "data": {
      "text/plain": [
       "0"
      ]
     },
     "execution_count": 16,
     "metadata": {},
     "output_type": "execute_result"
    }
   ],
   "source": [
    "binary(0)"
   ]
  },
  {
   "cell_type": "code",
   "execution_count": 17,
   "id": "2ce59996",
   "metadata": {},
   "outputs": [
    {
     "data": {
      "text/plain": [
       "1"
      ]
     },
     "execution_count": 17,
     "metadata": {},
     "output_type": "execute_result"
    }
   ],
   "source": [
    "binary(1)"
   ]
  },
  {
   "cell_type": "code",
   "execution_count": 18,
   "id": "284e55f9",
   "metadata": {},
   "outputs": [
    {
     "data": {
      "text/plain": [
       "11"
      ]
     },
     "execution_count": 18,
     "metadata": {},
     "output_type": "execute_result"
    }
   ],
   "source": [
    "binary(3)"
   ]
  },
  {
   "cell_type": "code",
   "execution_count": 19,
   "id": "590934dc",
   "metadata": {},
   "outputs": [
    {
     "data": {
      "text/plain": [
       "1001"
      ]
     },
     "execution_count": 19,
     "metadata": {},
     "output_type": "execute_result"
    }
   ],
   "source": [
    "binary(9)"
   ]
  },
  {
   "cell_type": "code",
   "execution_count": 20,
   "id": "6a66b2e9",
   "metadata": {},
   "outputs": [
    {
     "data": {
      "text/plain": [
       "1111"
      ]
     },
     "execution_count": 20,
     "metadata": {},
     "output_type": "execute_result"
    }
   ],
   "source": [
    "binary(15)"
   ]
  },
  {
   "cell_type": "markdown",
   "id": "bdeb7fce",
   "metadata": {},
   "source": [
    "### Question 6 "
   ]
  },
  {
   "cell_type": "markdown",
   "id": "91851a84",
   "metadata": {},
   "source": [
    "Implement a class named HeadingParser that can be used to parse an HTML document, and retrieve and print all the headings in the document. You should implement your class as a subclass of HTMLParser, defined in Standard Library module html.parser. When fed a string containing HTML code, your class should print the headings, one per line and in the order in which they appear in the document. Each heading should be indented as follows: an h1 heading should have indentation 0, and h2 heading should have indentation 1, etc. Test your implementation using w3c.html. >>> infile = open('w3c.html') >>> content = infile.read() >>> infile.close() >>> hp = HeadingParser() >>> hp.feed(content) W3C Mission Principles"
   ]
  },
  {
   "cell_type": "code",
   "execution_count": 21,
   "id": "1722adcd",
   "metadata": {},
   "outputs": [],
   "source": [
    "from html.parser import HTMLParser                               \n",
    "class HeadingParser(HTMLParser):                      \n",
    "    def __init__(self):                                                 \n",
    "        HTMLParser.__init__(self)                           \n",
    "        self.head =0                                                          \n",
    "        self.intend = \"\"\n",
    "    def handle_starttag(self, tag, attributes):              \n",
    "        if tag[:-1]=='h':\n",
    "            self.head = 'type'\n",
    "    def handle_data(self, data):                             \n",
    "        if self.head==\"type\":\n",
    "            print(self.intend+ data)                         \n",
    "            self.intend+= \"    \"\n",
    "            self.head=0 "
   ]
  },
  {
   "cell_type": "code",
   "execution_count": 22,
   "id": "7ad63f48",
   "metadata": {},
   "outputs": [
    {
     "name": "stdout",
     "output_type": "stream",
     "text": [
      "W3C Mission\n",
      "    Principles\n"
     ]
    }
   ],
   "source": [
    "infile = open('w3c.html')\n",
    "content = infile.read()\n",
    "infile.close()\n",
    "hp = HeadingParser()\n",
    "hp.feed(content)"
   ]
  },
  {
   "cell_type": "markdown",
   "id": "14f3e1a2",
   "metadata": {},
   "source": [
    "### Question 7 "
   ]
  },
  {
   "cell_type": "markdown",
   "id": "577caca2",
   "metadata": {},
   "source": [
    "Implement recursive function webdir() that takes as input: a URL (as a string) and non-negative integers depth and indent. Your function should visit every web page reachable from the starting URL web page in depth clicks or less, and print each web page's URL. As shown below, indentation, specified by indent, should be used to indicate the depth of a URL. >>>\n",
    "webdir('http://reed.cs.depaul.edu/lperkovic/csc242/test1.html', 2, 0)\n",
    "http://reed.cs.depaul.edu/lperkovic/csc242/test1.html http://reed.cs.depaul.edu/lperkovic/csc242/test2.html\n",
    "http://reed.cs.depaul.edu/lperkovic/csc242/test4.html http://reed.cs.depaul.edu/lperkovic/csc242/test3.html\n",
    "http://reed.cs.depaul.edu/lperkovic/csc242/test4.html"
   ]
  },
  {
   "cell_type": "code",
   "execution_count": 29,
   "id": "8852a4d4",
   "metadata": {},
   "outputs": [],
   "source": [
    "from urllib import request\n",
    "from urllib.parse import urlparse, urljoin\n",
    "from html.parser import HTMLParser\n",
    "\n",
    "class WebDirHTMLParser(HTMLParser):\n",
    "    def __init__(self, base_url, depth, indent):\n",
    "        super().__init__()\n",
    "        self.base_url = base_url\n",
    "        self.depth = depth\n",
    "        self.indent = indent\n",
    "        self.current_depth = 0\n",
    "        self.visited_urls = set()\n",
    "\n",
    "    def handle_starttag(self, tag, attrs):\n",
    "        if self.current_depth <= self.depth and tag == 'a':\n",
    "            for attr in attrs:\n",
    "                if attr[0] == 'href':\n",
    "                    url = urljoin(self.base_url, attr[1])\n",
    "                    if url not in self.visited_urls:\n",
    "                        self.visited_urls.add(url)\n",
    "                        print(' ' * self.indent * self.current_depth + url)\n",
    "                        if self.current_depth < self.depth:\n",
    "                            self.current_depth += 1\n",
    "                            self.parse_url(url)\n",
    "\n",
    "    def parse_url(self, url):\n",
    "        try:\n",
    "            response = request.urlopen(url)\n",
    "            html_content = response.read().decode('utf-8')\n",
    "            parser = WebDirHTMLParser(url, self.depth, self.indent)\n",
    "            parser.feed(html_content)\n",
    "        except:\n",
    "            pass\n",
    "\n",
    "def webdir(url, depth, indent):\n",
    "    parsed_url = urlparse(url)\n",
    "    base_url = parsed_url.scheme + '://' + parsed_url.netloc\n",
    "    print(url)\n",
    "    parser = WebDirHTMLParser(base_url, depth, indent)\n",
    "    parser.parse_url(url)"
   ]
  },
  {
   "cell_type": "code",
   "execution_count": 30,
   "id": "79aeac5e",
   "metadata": {},
   "outputs": [
    {
     "name": "stdout",
     "output_type": "stream",
     "text": [
      "http://reed.cs.depaul.edu/lperkovic/test1.html\n",
      "http://reed.cs.depaul.edu/lperkovic/test2.html\n",
      "http://reed.cs.depaul.edu/lperkovic/test3.html\n"
     ]
    }
   ],
   "source": [
    "webdir('http://reed.cs.depaul.edu/lperkovic/test1.html', 0, 0)"
   ]
  },
  {
   "cell_type": "markdown",
   "id": "cd78df61",
   "metadata": {},
   "source": [
    "### Question 8"
   ]
  },
  {
   "cell_type": "markdown",
   "id": "d2bd7bf5",
   "metadata": {},
   "source": [
    "Write SQL queries on the below database table that return:"
   ]
  },
  {
   "cell_type": "markdown",
   "id": "4404f29c",
   "metadata": {},
   "source": [
    "City    Country         Season  Temperature (C)  Rainfall (mm)\n",
    "\n",
    "Mumbai  India           Winter  24.8             5.9\n",
    "\n",
    "Mumbai  India           Spring  28.4             16.2\n",
    "\n",
    "Mumbai  India           Summer  27.9             1549.4\n",
    "\n",
    "Mumbai  India           Fall    27.6             346.0\n",
    "\n",
    "London  United Kingdom  Winter  4.2              207.7\n",
    "\n",
    "London  United Kingdom  Spring  8.3              169.6\n",
    "\n",
    "London  United Kingdom  Summer  15.7             157.0\n",
    "\n",
    "London  United Kingdom  Fall    10.4             218.5\n",
    "\n",
    "Cairo   Egypt           Winter  13.6             16.5\n",
    "\n",
    "Cairo   Egypt           Spring  20.7             6.5\n",
    "\n",
    "Cairo   Egypt           Summer  27.7             0.1\n",
    "\n",
    "Cairo   Egypt           Fall    22.2             4.5"
   ]
  },
  {
   "cell_type": "code",
   "execution_count": 33,
   "id": "e5e2fcb4",
   "metadata": {},
   "outputs": [],
   "source": [
    "import sqlite3\n",
    "a = sqlite3.connect('database_db')\n",
    "b = a.cursor()\n",
    "b.execute(\"Create Table database_1 (City, Country, Season, Temperature, Rainfall)\")\n",
    "b.execute(\"Insert into database_1 values ('Mumbai', 'India', 'Winter', 24.8, 5.9)\")\n",
    "b.execute(\"Insert into database_1 values ('Mumbai', 'India', 'Spring', 28.4, 16.2)\")\n",
    "b.execute(\"Insert into database_1 values ('Mumbai', 'India', 'Summer', 27.9, 1549.4)\")\n",
    "b.execute(\"Insert into database_1 values ('Mumbai', 'India', 'Fall', 27.6, 346.0)\")\n",
    "b.execute(\"Insert into database_1 values ('London', 'United Kingdom', 'Winter', 4.2, 207.7)\")\n",
    "b.execute(\"Insert into database_1 values ('London', 'United Kingdom', 'Spring', 8.3, 169.6)\")\n",
    "b.execute(\"Insert into database_1 values ('London', 'United Kingdom', 'Summer', 15.7, 157.0)\")\n",
    "b.execute(\"Insert into database_1 values ('London', 'United Kingdom', 'Fall', 10.4, 218.5)\")\n",
    "b.execute(\"Insert into database_1 values ('Cairo', 'Egypt', 'Winter', 13.6, 16.5)\")\n",
    "b.execute(\"Insert into database_1 values ('Cairo', 'Egypt', 'Spring', 20.7, 6.5)\")\n",
    "b.execute(\"Insert into database_1 values ('Cairo', 'Egypt', 'Summer', 27.7, 0.1)\")\n",
    "b.execute(\"Insert into database_1 values ('Cairo', 'Egypt', 'Fall', 22.2, 4.5)\")\n",
    "a.commit()\n",
    "a.close()"
   ]
  },
  {
   "cell_type": "code",
   "execution_count": 34,
   "id": "8a813682",
   "metadata": {},
   "outputs": [],
   "source": [
    "import sqlite3\n",
    "a = sqlite3.connect('database_db')\n",
    "b = a.cursor()"
   ]
  },
  {
   "cell_type": "markdown",
   "id": "1601b8a2",
   "metadata": {},
   "source": [
    "a) All the temperature data."
   ]
  },
  {
   "cell_type": "code",
   "execution_count": 35,
   "id": "5132fed6",
   "metadata": {},
   "outputs": [
    {
     "name": "stdout",
     "output_type": "stream",
     "text": [
      "(24.8,)\n",
      "(28.4,)\n",
      "(27.9,)\n",
      "(27.6,)\n",
      "(4.2,)\n",
      "(8.3,)\n",
      "(15.7,)\n",
      "(10.4,)\n",
      "(13.6,)\n",
      "(20.7,)\n",
      "(27.7,)\n",
      "(22.2,)\n"
     ]
    }
   ],
   "source": [
    "b.execute('Select Temperature from database_d ')\n",
    "for record in b:\n",
    "    print(record)"
   ]
  },
  {
   "cell_type": "markdown",
   "id": "000c6093",
   "metadata": {},
   "source": [
    "b) All the cities, but without repetition."
   ]
  },
  {
   "cell_type": "code",
   "execution_count": 36,
   "id": "56534d04",
   "metadata": {},
   "outputs": [
    {
     "name": "stdout",
     "output_type": "stream",
     "text": [
      "('Mumbai',)\n",
      "('London',)\n",
      "('Cairo',)\n"
     ]
    }
   ],
   "source": [
    "b.execute('Select distinct City from database_d ')\n",
    "for record in b:\n",
    "    print(record)"
   ]
  },
  {
   "cell_type": "markdown",
   "id": "090c20f7",
   "metadata": {},
   "source": [
    "c) All the records for India."
   ]
  },
  {
   "cell_type": "code",
   "execution_count": 37,
   "id": "eba87220",
   "metadata": {},
   "outputs": [
    {
     "name": "stdout",
     "output_type": "stream",
     "text": [
      "('Mumbai', 'India', 'Winter', 24.8, 5.9)\n",
      "('Mumbai', 'India', 'Spring', 28.4, 16.2)\n",
      "('Mumbai', 'India', 'Summer', 27.9, 1549.4)\n",
      "('Mumbai', 'India', 'Fall', 27.6, 346)\n"
     ]
    }
   ],
   "source": [
    "b.execute('Select * from database_d  where Country=\"India\"')\n",
    "for record in b:\n",
    "    print(record)"
   ]
  },
  {
   "cell_type": "markdown",
   "id": "21d94d08",
   "metadata": {},
   "source": [
    "d) All the Fall records."
   ]
  },
  {
   "cell_type": "code",
   "execution_count": 38,
   "id": "954ef8bf",
   "metadata": {},
   "outputs": [
    {
     "name": "stdout",
     "output_type": "stream",
     "text": [
      "('Mumbai', 'India', 'Fall', 27.6, 346)\n",
      "('London', 'United Kingdom', 'Fall', 10.4, 218.5)\n",
      "('Cairo', 'Egypt', 'Fall', 22.2, 4.5)\n"
     ]
    }
   ],
   "source": [
    "b.execute('Select * from database_d  where Season=\"Fall\"')\n",
    "for record in b:\n",
    "    print(record)"
   ]
  },
  {
   "cell_type": "markdown",
   "id": "464f7e5c",
   "metadata": {},
   "source": [
    "e) The city, country, and season for which the average rainfall is between 200 and 400 millimeters."
   ]
  },
  {
   "cell_type": "code",
   "execution_count": 39,
   "id": "f574a153",
   "metadata": {},
   "outputs": [
    {
     "name": "stdout",
     "output_type": "stream",
     "text": [
      "('Mumbai', 'India', 'Fall')\n",
      "('London', 'United Kingdom', 'Winter')\n",
      "('London', 'United Kingdom', 'Fall')\n"
     ]
    }
   ],
   "source": [
    "b.execute('Select City, Country, season from database_d  where (rainfall>200) and (rainfall<400)')\n",
    "for record in b:\n",
    "    print(record)"
   ]
  },
  {
   "cell_type": "markdown",
   "id": "aeba6048",
   "metadata": {},
   "source": [
    "f) The city and country for which the average Fall temperature is above 20 degrees, in increasing temperature order."
   ]
  },
  {
   "cell_type": "code",
   "execution_count": 48,
   "id": "88c57bf4",
   "metadata": {},
   "outputs": [
    {
     "name": "stdout",
     "output_type": "stream",
     "text": [
      "('Cairo', 'Egypt')\n",
      "('Mumbai', 'India')\n"
     ]
    }
   ],
   "source": [
    "b.execute('Select City, Country from database_d  where (Season =\"Fall\") and (Temperature>20) order by Temperature ASC')\n",
    "for record in b:\n",
    "    print(record)"
   ]
  },
  {
   "cell_type": "markdown",
   "id": "5859f238",
   "metadata": {},
   "source": [
    "g) The total annual rainfall for Cairo."
   ]
  },
  {
   "cell_type": "code",
   "execution_count": 45,
   "id": "a8568f94",
   "metadata": {},
   "outputs": [
    {
     "name": "stdout",
     "output_type": "stream",
     "text": [
      "[(27.6,)]\n"
     ]
    }
   ],
   "source": [
    "b.execute('Select Sum(Rainfall) from database_d  where City=\"Cairo\"')\n",
    "rainfall_new=b.fetchall()\n",
    "print(rainfall_new)"
   ]
  },
  {
   "cell_type": "markdown",
   "id": "23cba219",
   "metadata": {},
   "source": [
    "h) The total rainfall for each season."
   ]
  },
  {
   "cell_type": "code",
   "execution_count": 49,
   "id": "2cc7f4a4",
   "metadata": {},
   "outputs": [
    {
     "name": "stdout",
     "output_type": "stream",
     "text": [
      "('Fall', 569.0)\n",
      "('Spring', 192.29999999999998)\n",
      "('Summer', 1706.5)\n",
      "('Winter', 230.1)\n"
     ]
    }
   ],
   "source": [
    "b.execute('Select Season, Sum(Rainfall) from database_d group by Season')\n",
    "for record in b:\n",
    "    print(record)"
   ]
  },
  {
   "cell_type": "markdown",
   "id": "d86569a0",
   "metadata": {},
   "source": [
    "### Question 9"
   ]
  },
  {
   "cell_type": "markdown",
   "id": "cfe88df3",
   "metadata": {},
   "source": [
    "Suppose list words is defined as follows: >>> words = ['The', 'quick', 'brown', 'fox', 'jumps', 'over', 'the', 'lazy', 'dog']\n",
    "Write list comprehension expressions that use list words and generate the following lists:"
   ]
  },
  {
   "cell_type": "code",
   "execution_count": 51,
   "id": "e7b7ecdb",
   "metadata": {},
   "outputs": [],
   "source": [
    "words = ['The', 'quick', 'brown', 'fox', 'jumps', 'over', 'the', 'lazy', 'dog']"
   ]
  },
  {
   "cell_type": "markdown",
   "id": "428866b0",
   "metadata": {},
   "source": [
    "a) ['THE', 'QUICK', 'BROWN', 'FOX', 'JUMPS', 'OVER', 'THE', 'LAZY', 'DOG']"
   ]
  },
  {
   "cell_type": "code",
   "execution_count": 52,
   "id": "15e3da1b",
   "metadata": {},
   "outputs": [
    {
     "data": {
      "text/plain": [
       "['THE', 'QUICK', 'BROWN', 'FOX', 'JUMPS', 'OVER', 'THE', 'LAZY', 'DOG']"
      ]
     },
     "execution_count": 52,
     "metadata": {},
     "output_type": "execute_result"
    }
   ],
   "source": [
    "[a.upper() for a in words]"
   ]
  },
  {
   "cell_type": "markdown",
   "id": "7ec91be9",
   "metadata": {},
   "source": [
    "b) ['the', 'quick', 'brown', 'fox', 'jumps', 'over', 'the', 'lazy', 'dog']"
   ]
  },
  {
   "cell_type": "code",
   "execution_count": 53,
   "id": "82adb916",
   "metadata": {},
   "outputs": [
    {
     "data": {
      "text/plain": [
       "['the', 'quick', 'brown', 'fox', 'jumps', 'over', 'the', 'lazy', 'dog']"
      ]
     },
     "execution_count": 53,
     "metadata": {},
     "output_type": "execute_result"
    }
   ],
   "source": [
    "[a.lower() for a in words]"
   ]
  },
  {
   "cell_type": "markdown",
   "id": "328d0185",
   "metadata": {},
   "source": [
    "c) [3, 5, 5, 3, 5, 4, 3, 4, 3] (the list of lengths of words in list words)"
   ]
  },
  {
   "cell_type": "code",
   "execution_count": 54,
   "id": "8536e095",
   "metadata": {},
   "outputs": [
    {
     "data": {
      "text/plain": [
       "[3, 5, 5, 3, 5, 4, 3, 4, 3]"
      ]
     },
     "execution_count": 54,
     "metadata": {},
     "output_type": "execute_result"
    }
   ],
   "source": [
    "[len(a) for a in words]"
   ]
  },
  {
   "cell_type": "markdown",
   "id": "299d20d1",
   "metadata": {},
   "source": [
    "d) [['THE', 'the', 3], ['QUICK', 'quick', 5], ['BROWN','brown', 5], ['FOX', 'fox', 3], ['JUMPS', 'jumps', 5],['OVER', 'over',4],['THE', 'the', 3], ['LAZY', 'lazy',4], ['DOG', 'dog', 3]] (the list containing a list for every word of list words, where each list contains the word in uppercase and lowercase and the length of the word.)"
   ]
  },
  {
   "cell_type": "code",
   "execution_count": 55,
   "id": "bfd3d724",
   "metadata": {},
   "outputs": [
    {
     "data": {
      "text/plain": [
       "[['THE', 'the', 3],\n",
       " ['QUICK', 'quick', 5],\n",
       " ['BROWN', 'brown', 5],\n",
       " ['FOX', 'fox', 3],\n",
       " ['JUMPS', 'jumps', 5],\n",
       " ['OVER', 'over', 4],\n",
       " ['THE', 'the', 3],\n",
       " ['LAZY', 'lazy', 4],\n",
       " ['DOG', 'dog', 3]]"
      ]
     },
     "execution_count": 55,
     "metadata": {},
     "output_type": "execute_result"
    }
   ],
   "source": [
    "[[a.upper(),a.lower(),len(a)] for a in words]"
   ]
  },
  {
   "cell_type": "markdown",
   "id": "11f2ebf1",
   "metadata": {},
   "source": [
    "e) ['The', 'quick', 'brown', 'fox', 'jumps', 'over', 'the', 'lazy', 'dog'] (the list of words in list words containing 4 or more characters.)"
   ]
  },
  {
   "cell_type": "code",
   "execution_count": 56,
   "id": "84da95f8",
   "metadata": {},
   "outputs": [
    {
     "data": {
      "text/plain": [
       "['quick', 'brown', 'jumps', 'over', 'lazy']"
      ]
     },
     "execution_count": 56,
     "metadata": {},
     "output_type": "execute_result"
    }
   ],
   "source": [
    "[a for a in words if len(a) >= 4]"
   ]
  }
 ],
 "metadata": {
  "kernelspec": {
   "display_name": "Python 3 (ipykernel)",
   "language": "python",
   "name": "python3"
  },
  "language_info": {
   "codemirror_mode": {
    "name": "ipython",
    "version": 3
   },
   "file_extension": ".py",
   "mimetype": "text/x-python",
   "name": "python",
   "nbconvert_exporter": "python",
   "pygments_lexer": "ipython3",
   "version": "3.9.12"
  }
 },
 "nbformat": 4,
 "nbformat_minor": 5
}
